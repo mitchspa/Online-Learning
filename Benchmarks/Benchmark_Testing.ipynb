{
  "nbformat": 4,
  "nbformat_minor": 0,
  "metadata": {
    "colab": {
      "provenance": []
    },
    "kernelspec": {
      "name": "python3",
      "display_name": "Python 3"
    },
    "language_info": {
      "name": "python"
    }
  },
  "cells": [
    {
      "cell_type": "code",
      "execution_count": 1,
      "metadata": {
        "id": "58925FYZKEgn"
      },
      "outputs": [],
      "source": [
        "from benchmarks import UCB, TS, BuyAndHold\n",
        "from agent import portfolio, stream\n",
        "import numpy as np"
      ]
    },
    {
      "cell_type": "code",
      "source": [
        "T = 30\n",
        "ucb = UCB(T, 10)\n",
        "ts = TS(T, 10)\n",
        "bh = BuyAndHold(T)\n",
        "\n",
        "bh_p = portfolio()\n",
        "ts_p = portfolio(initial_position=1)\n",
        "ucb_p = portfolio(initial_position=1)\n",
        "\n",
        "n_trials = 20\n",
        "bh_perf = np.array([])\n",
        "ts_perf = np.array([])\n",
        "ucb_perf = np.array([])"
      ],
      "metadata": {
        "id": "5nYp4EnKL3gG"
      },
      "execution_count": 2,
      "outputs": []
    },
    {
      "cell_type": "code",
      "source": [
        "for trial in range(n_trials):\n",
        "  s = stream(seed = trial)\n",
        "  for t in range(T):\n",
        "    new_price = s.update()\n",
        "    if t == 0:\n",
        "      init = new_price\n",
        "\n",
        "    # decide what to play\n",
        "    a_ucb = ucb.pull_arm()\n",
        "    a_ts = ts.pull_arm()\n",
        "\n",
        "    # see price, get reward/loss\n",
        "    r_ts = ts_p.update(a_ts, new_price)\n",
        "    r_ucb = ucb_p.update(a_ucb, new_price)\n",
        "    bh.update(new_price)\n",
        "\n",
        "    # learn\n",
        "    ucb.update(r_ucb)\n",
        "    ts.update(r_ts)\n",
        "\n",
        "  # store performances\n",
        "  bh_perf = bh.get_perf()\n",
        "  ts_perf = np.append(ts_perf, ts_p.profit/init)\n",
        "  ucb_perf = np.append(ucb_perf, ucb_p.profit/init)"
      ],
      "metadata": {
        "id": "xoZEORavLrpF"
      },
      "execution_count": 3,
      "outputs": []
    },
    {
      "cell_type": "code",
      "source": [
        "print(f'Average Performance for UCB Agent: {np.average(ucb_perf)}.')\n",
        "print(f'Average Performance for TS Agent: {np.average(ts_perf)}.')\n",
        "print(f'Average Performance for B&H Agent: {np.average(bh_perf)}.')"
      ],
      "metadata": {
        "colab": {
          "base_uri": "https://localhost:8080/"
        },
        "id": "D27QXFxQQvh0",
        "outputId": "06717c0d-1d72-49dc-c422-2597191aa6b8"
      },
      "execution_count": 4,
      "outputs": [
        {
          "output_type": "stream",
          "name": "stdout",
          "text": [
            "Average Performance for UCB Agent: -0.14705642501471344.\n",
            "Average Performance for TS Agent: -0.09504973683590993.\n",
            "Average Performance for B&H Agent: -0.08336944176861631.\n"
          ]
        }
      ]
    }
  ]
}